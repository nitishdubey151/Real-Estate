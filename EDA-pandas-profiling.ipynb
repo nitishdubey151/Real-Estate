{
 "cells": [
  {
   "cell_type": "code",
   "execution_count": 16,
   "id": "6db3c50e-6d25-4ec3-b0c2-6bd5ea8c7fc6",
   "metadata": {},
   "outputs": [
    {
     "name": "stdout",
     "output_type": "stream",
     "text": [
      "Requirement already satisfied: pandas-profiling in c:\\users\\nitis\\appdata\\roaming\\python\\python310\\site-packages (3.6.6)\n",
      "Requirement already satisfied: ydata-profiling in c:\\users\\nitis\\appdata\\roaming\\python\\python310\\site-packages (from pandas-profiling) (4.16.1)\n",
      "Requirement already satisfied: scipy<1.16,>=1.4.1 in c:\\users\\nitis\\appdata\\local\\programs\\python\\python310\\lib\\site-packages (from ydata-profiling->pandas-profiling) (1.15.3)\n",
      "Requirement already satisfied: pandas!=1.4.0,<3.0,>1.1 in c:\\users\\nitis\\appdata\\local\\programs\\python\\python310\\lib\\site-packages (from ydata-profiling->pandas-profiling) (2.2.3)\n",
      "Collecting matplotlib<=3.10,>=3.5 (from ydata-profiling->pandas-profiling)\n",
      "  Using cached matplotlib-3.10.0-cp310-cp310-win_amd64.whl.metadata (11 kB)\n",
      "Requirement already satisfied: pydantic>=2 in c:\\users\\nitis\\appdata\\local\\programs\\python\\python310\\lib\\site-packages (from ydata-profiling->pandas-profiling) (2.11.5)\n",
      "Requirement already satisfied: PyYAML<6.1,>=5.0.0 in c:\\users\\nitis\\appdata\\local\\programs\\python\\python310\\lib\\site-packages (from ydata-profiling->pandas-profiling) (6.0.2)\n",
      "Requirement already satisfied: jinja2<3.2,>=2.11.1 in c:\\users\\nitis\\appdata\\local\\programs\\python\\python310\\lib\\site-packages (from ydata-profiling->pandas-profiling) (3.1.6)\n",
      "Requirement already satisfied: visions<0.8.2,>=0.7.5 in c:\\users\\nitis\\appdata\\local\\programs\\python\\python310\\lib\\site-packages (from visions[type_image_path]<0.8.2,>=0.7.5->ydata-profiling->pandas-profiling) (0.8.1)\n",
      "Requirement already satisfied: numpy<2.2,>=1.16.0 in c:\\users\\nitis\\appdata\\local\\programs\\python\\python310\\lib\\site-packages (from ydata-profiling->pandas-profiling) (2.1.3)\n",
      "Requirement already satisfied: htmlmin==0.1.12 in c:\\users\\nitis\\appdata\\local\\programs\\python\\python310\\lib\\site-packages (from ydata-profiling->pandas-profiling) (0.1.12)\n",
      "Requirement already satisfied: phik<0.13,>=0.11.1 in c:\\users\\nitis\\appdata\\roaming\\python\\python310\\site-packages (from ydata-profiling->pandas-profiling) (0.12.4)\n",
      "Requirement already satisfied: requests<3,>=2.24.0 in c:\\users\\nitis\\appdata\\local\\programs\\python\\python310\\lib\\site-packages (from ydata-profiling->pandas-profiling) (2.32.3)\n",
      "Requirement already satisfied: tqdm<5,>=4.48.2 in c:\\users\\nitis\\appdata\\local\\programs\\python\\python310\\lib\\site-packages (from ydata-profiling->pandas-profiling) (4.67.1)\n",
      "Requirement already satisfied: seaborn<0.14,>=0.10.1 in c:\\users\\nitis\\appdata\\local\\programs\\python\\python310\\lib\\site-packages (from ydata-profiling->pandas-profiling) (0.13.2)\n",
      "Requirement already satisfied: multimethod<2,>=1.4 in c:\\users\\nitis\\appdata\\local\\programs\\python\\python310\\lib\\site-packages (from ydata-profiling->pandas-profiling) (1.12)\n",
      "Requirement already satisfied: statsmodels<1,>=0.13.2 in c:\\users\\nitis\\appdata\\local\\programs\\python\\python310\\lib\\site-packages (from ydata-profiling->pandas-profiling) (0.14.5)\n",
      "Requirement already satisfied: typeguard<5,>=3 in c:\\users\\nitis\\appdata\\local\\programs\\python\\python310\\lib\\site-packages (from ydata-profiling->pandas-profiling) (4.4.4)\n",
      "Requirement already satisfied: imagehash==4.3.1 in c:\\users\\nitis\\appdata\\roaming\\python\\python310\\site-packages (from ydata-profiling->pandas-profiling) (4.3.1)\n",
      "Requirement already satisfied: wordcloud>=1.9.3 in c:\\users\\nitis\\appdata\\roaming\\python\\python310\\site-packages (from ydata-profiling->pandas-profiling) (1.9.4)\n",
      "Requirement already satisfied: dacite>=1.8 in c:\\users\\nitis\\appdata\\local\\programs\\python\\python310\\lib\\site-packages (from ydata-profiling->pandas-profiling) (1.9.2)\n",
      "Requirement already satisfied: numba<=0.61,>=0.56.0 in c:\\users\\nitis\\appdata\\local\\programs\\python\\python310\\lib\\site-packages (from ydata-profiling->pandas-profiling) (0.61.0)\n",
      "Requirement already satisfied: PyWavelets in c:\\users\\nitis\\appdata\\local\\programs\\python\\python310\\lib\\site-packages (from imagehash==4.3.1->ydata-profiling->pandas-profiling) (1.8.0)\n",
      "Requirement already satisfied: pillow in c:\\users\\nitis\\appdata\\local\\programs\\python\\python310\\lib\\site-packages (from imagehash==4.3.1->ydata-profiling->pandas-profiling) (11.2.1)\n",
      "Requirement already satisfied: MarkupSafe>=2.0 in c:\\users\\nitis\\appdata\\local\\programs\\python\\python310\\lib\\site-packages (from jinja2<3.2,>=2.11.1->ydata-profiling->pandas-profiling) (3.0.2)\n",
      "Requirement already satisfied: contourpy>=1.0.1 in c:\\users\\nitis\\appdata\\local\\programs\\python\\python310\\lib\\site-packages (from matplotlib<=3.10,>=3.5->ydata-profiling->pandas-profiling) (1.3.2)\n",
      "Requirement already satisfied: cycler>=0.10 in c:\\users\\nitis\\appdata\\local\\programs\\python\\python310\\lib\\site-packages (from matplotlib<=3.10,>=3.5->ydata-profiling->pandas-profiling) (0.12.1)\n",
      "Requirement already satisfied: fonttools>=4.22.0 in c:\\users\\nitis\\appdata\\local\\programs\\python\\python310\\lib\\site-packages (from matplotlib<=3.10,>=3.5->ydata-profiling->pandas-profiling) (4.58.1)\n",
      "Requirement already satisfied: kiwisolver>=1.3.1 in c:\\users\\nitis\\appdata\\local\\programs\\python\\python310\\lib\\site-packages (from matplotlib<=3.10,>=3.5->ydata-profiling->pandas-profiling) (1.4.8)\n",
      "Requirement already satisfied: packaging>=20.0 in c:\\users\\nitis\\appdata\\local\\programs\\python\\python310\\lib\\site-packages (from matplotlib<=3.10,>=3.5->ydata-profiling->pandas-profiling) (25.0)\n",
      "Requirement already satisfied: pyparsing>=2.3.1 in c:\\users\\nitis\\appdata\\local\\programs\\python\\python310\\lib\\site-packages (from matplotlib<=3.10,>=3.5->ydata-profiling->pandas-profiling) (3.2.3)\n",
      "Requirement already satisfied: python-dateutil>=2.7 in c:\\users\\nitis\\appdata\\local\\programs\\python\\python310\\lib\\site-packages (from matplotlib<=3.10,>=3.5->ydata-profiling->pandas-profiling) (2.9.0.post0)\n",
      "Requirement already satisfied: llvmlite<0.45,>=0.44.0dev0 in c:\\users\\nitis\\appdata\\local\\programs\\python\\python310\\lib\\site-packages (from numba<=0.61,>=0.56.0->ydata-profiling->pandas-profiling) (0.44.0)\n",
      "Requirement already satisfied: pytz>=2020.1 in c:\\users\\nitis\\appdata\\local\\programs\\python\\python310\\lib\\site-packages (from pandas!=1.4.0,<3.0,>1.1->ydata-profiling->pandas-profiling) (2025.2)\n",
      "Requirement already satisfied: tzdata>=2022.7 in c:\\users\\nitis\\appdata\\local\\programs\\python\\python310\\lib\\site-packages (from pandas!=1.4.0,<3.0,>1.1->ydata-profiling->pandas-profiling) (2025.2)\n",
      "Requirement already satisfied: joblib>=0.14.1 in c:\\users\\nitis\\appdata\\local\\programs\\python\\python310\\lib\\site-packages (from phik<0.13,>=0.11.1->ydata-profiling->pandas-profiling) (1.5.1)\n",
      "Requirement already satisfied: charset-normalizer<4,>=2 in c:\\users\\nitis\\appdata\\local\\programs\\python\\python310\\lib\\site-packages (from requests<3,>=2.24.0->ydata-profiling->pandas-profiling) (3.4.2)\n",
      "Requirement already satisfied: idna<4,>=2.5 in c:\\users\\nitis\\appdata\\local\\programs\\python\\python310\\lib\\site-packages (from requests<3,>=2.24.0->ydata-profiling->pandas-profiling) (3.10)\n",
      "Requirement already satisfied: urllib3<3,>=1.21.1 in c:\\users\\nitis\\appdata\\local\\programs\\python\\python310\\lib\\site-packages (from requests<3,>=2.24.0->ydata-profiling->pandas-profiling) (2.4.0)\n",
      "Requirement already satisfied: certifi>=2017.4.17 in c:\\users\\nitis\\appdata\\local\\programs\\python\\python310\\lib\\site-packages (from requests<3,>=2.24.0->ydata-profiling->pandas-profiling) (2025.4.26)\n",
      "Requirement already satisfied: patsy>=0.5.6 in c:\\users\\nitis\\appdata\\local\\programs\\python\\python310\\lib\\site-packages (from statsmodels<1,>=0.13.2->ydata-profiling->pandas-profiling) (1.0.1)\n",
      "Requirement already satisfied: colorama in c:\\users\\nitis\\appdata\\local\\programs\\python\\python310\\lib\\site-packages (from tqdm<5,>=4.48.2->ydata-profiling->pandas-profiling) (0.4.6)\n",
      "Requirement already satisfied: typing_extensions>=4.14.0 in c:\\users\\nitis\\appdata\\local\\programs\\python\\python310\\lib\\site-packages (from typeguard<5,>=3->ydata-profiling->pandas-profiling) (4.14.1)\n",
      "Requirement already satisfied: attrs>=19.3.0 in c:\\users\\nitis\\appdata\\local\\programs\\python\\python310\\lib\\site-packages (from visions<0.8.2,>=0.7.5->visions[type_image_path]<0.8.2,>=0.7.5->ydata-profiling->pandas-profiling) (25.3.0)\n",
      "Requirement already satisfied: networkx>=2.4 in c:\\users\\nitis\\appdata\\local\\programs\\python\\python310\\lib\\site-packages (from visions<0.8.2,>=0.7.5->visions[type_image_path]<0.8.2,>=0.7.5->ydata-profiling->pandas-profiling) (3.4.2)\n",
      "Requirement already satisfied: puremagic in c:\\users\\nitis\\appdata\\local\\programs\\python\\python310\\lib\\site-packages (from visions<0.8.2,>=0.7.5->visions[type_image_path]<0.8.2,>=0.7.5->ydata-profiling->pandas-profiling) (1.30)\n",
      "Requirement already satisfied: annotated-types>=0.6.0 in c:\\users\\nitis\\appdata\\local\\programs\\python\\python310\\lib\\site-packages (from pydantic>=2->ydata-profiling->pandas-profiling) (0.7.0)\n",
      "Requirement already satisfied: pydantic-core==2.33.2 in c:\\users\\nitis\\appdata\\local\\programs\\python\\python310\\lib\\site-packages (from pydantic>=2->ydata-profiling->pandas-profiling) (2.33.2)\n",
      "Requirement already satisfied: typing-inspection>=0.4.0 in c:\\users\\nitis\\appdata\\local\\programs\\python\\python310\\lib\\site-packages (from pydantic>=2->ydata-profiling->pandas-profiling) (0.4.1)\n",
      "Requirement already satisfied: six>=1.5 in c:\\users\\nitis\\appdata\\local\\programs\\python\\python310\\lib\\site-packages (from python-dateutil>=2.7->matplotlib<=3.10,>=3.5->ydata-profiling->pandas-profiling) (1.17.0)\n",
      "Using cached matplotlib-3.10.0-cp310-cp310-win_amd64.whl (8.0 MB)\n",
      "Installing collected packages: matplotlib\n",
      "  Attempting uninstall: matplotlib\n",
      "    Found existing installation: matplotlib 3.10.3\n",
      "    Uninstalling matplotlib-3.10.3:\n",
      "      Successfully uninstalled matplotlib-3.10.3\n",
      "Successfully installed matplotlib-3.10.0\n",
      "Note: you may need to restart the kernel to use updated packages.\n"
     ]
    },
    {
     "name": "stderr",
     "output_type": "stream",
     "text": [
      "WARNING: Ignoring invalid distribution -atplotlib (c:\\users\\nitis\\appdata\\local\\programs\\python\\python310\\lib\\site-packages)\n",
      "WARNING: Ignoring invalid distribution -atplotlib (c:\\users\\nitis\\appdata\\local\\programs\\python\\python310\\lib\\site-packages)\n"
     ]
    }
   ],
   "source": [
    "pip install --user pandas-profiling\n"
   ]
  },
  {
   "cell_type": "code",
   "execution_count": 17,
   "id": "6b6bdb85-0b51-4b2c-a6fd-ecc1266f704b",
   "metadata": {},
   "outputs": [
    {
     "ename": "ModuleNotFoundError",
     "evalue": "No module named 'pandas_profiling'",
     "output_type": "error",
     "traceback": [
      "\u001b[1;31m---------------------------------------------------------------------------\u001b[0m",
      "\u001b[1;31mModuleNotFoundError\u001b[0m                       Traceback (most recent call last)",
      "Cell \u001b[1;32mIn[17], line 2\u001b[0m\n\u001b[0;32m      1\u001b[0m \u001b[38;5;28;01mimport\u001b[39;00m\u001b[38;5;250m \u001b[39m\u001b[38;5;21;01mpandas\u001b[39;00m\u001b[38;5;250m \u001b[39m\u001b[38;5;28;01mas\u001b[39;00m\u001b[38;5;250m \u001b[39m\u001b[38;5;21;01mpd\u001b[39;00m\n\u001b[1;32m----> 2\u001b[0m \u001b[38;5;28;01mfrom\u001b[39;00m\u001b[38;5;250m \u001b[39m\u001b[38;5;21;01mpandas_profiling\u001b[39;00m\u001b[38;5;250m \u001b[39m\u001b[38;5;28;01mimport\u001b[39;00m ProfileReport\n\u001b[0;32m      4\u001b[0m \u001b[38;5;66;03m# Load your dataset\u001b[39;00m\n\u001b[0;32m      5\u001b[0m df \u001b[38;5;241m=\u001b[39m pd\u001b[38;5;241m.\u001b[39mread_csv(\u001b[38;5;124m'\u001b[39m\u001b[38;5;124mgurgaon_properties_cleaned_v2.csv\u001b[39m\u001b[38;5;124m'\u001b[39m)\u001b[38;5;241m.\u001b[39mdrop_duplicates()\n",
      "\u001b[1;31mModuleNotFoundError\u001b[0m: No module named 'pandas_profiling'"
     ]
    }
   ],
   "source": [
    "import pandas as pd\n",
    "from pandas_profiling import ProfileReport\n",
    "\n",
    "# Load your dataset\n",
    "df = pd.read_csv('gurgaon_properties_cleaned_v2.csv').drop_duplicates()\n",
    "\n",
    "# Create the ProfileReport object\n",
    "profile = ProfileReport(df, title='Pandas Profiling Report', explorative=True)\n",
    "\n",
    "# Generate the report\n",
    "profile.to_file(\"output_report.html\")\n"
   ]
  },
  {
   "cell_type": "code",
   "execution_count": null,
   "id": "b6c13244-dc9b-4d08-8506-7c5ef07b3ca9",
   "metadata": {},
   "outputs": [],
   "source": [
    "\n"
   ]
  },
  {
   "cell_type": "code",
   "execution_count": null,
   "id": "9ac68c08-7e46-4d92-8fd7-5657369b3115",
   "metadata": {},
   "outputs": [],
   "source": []
  }
 ],
 "metadata": {
  "kernelspec": {
   "display_name": "Python 3 (ipykernel)",
   "language": "python",
   "name": "python3"
  },
  "language_info": {
   "codemirror_mode": {
    "name": "ipython",
    "version": 3
   },
   "file_extension": ".py",
   "mimetype": "text/x-python",
   "name": "python",
   "nbconvert_exporter": "python",
   "pygments_lexer": "ipython3",
   "version": "3.10.11"
  }
 },
 "nbformat": 4,
 "nbformat_minor": 5
}
